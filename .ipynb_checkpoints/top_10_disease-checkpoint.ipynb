{
 "cells": [
  {
   "cell_type": "code",
   "execution_count": null,
   "id": "ced58d57",
   "metadata": {},
   "outputs": [],
   "source": []
  },
  {
   "cell_type": "code",
   "execution_count": null,
   "id": "4ebb0d65",
   "metadata": {},
   "outputs": [],
   "source": []
  },
  {
   "cell_type": "code",
   "execution_count": null,
   "id": "673b4c9e",
   "metadata": {},
   "outputs": [],
   "source": [
    "# %%\n",
    "import pandas as pd\n",
    "import numpy as np\n",
    "import pprint\n",
    "import re\n",
    "from os import walk\n",
    "import scipy.stats as stats\n",
    "import matplotlib.pyplot as plt\n",
    "\n",
    "# %%\n",
    "init_health = pd.read_csv(\"data/INITHEALTH.csv\",low_memory=False)\n",
    "rec_hist = pd.read_csv(\"data/RECMHIST.csv\",low_memory=False)\n",
    "disease_list = pd.read_json(\"data/diseases_data.json\")\n",
    "\n",
    "\n",
    "def get_disease_dict(file_name, disease_list):\n",
    "    disease_dict = {}\n",
    "    prev_dx = file_name.IHDESC.tolist()\n",
    "    for d in disease_list.itertuples():\n",
    "        disease_name = d.disease\n",
    "        print(disease_name)\n",
    "        regex = disease_name \n",
    "        index_list = []\n",
    "        for w in range(len(prev_dx)):\n",
    "            try:\n",
    "                matches = re.findall(regex, prev_dx[w], re.MULTILINE | re.IGNORECASE)\n",
    "                if len(matches)!=0:\n",
    "                    index_list.append(w)\n",
    "                    print(w)\n",
    "            except Exception:\n",
    "                print(prev_dx[w])\n",
    "        init_health_list  = file_name[file_name.index.isin(index_list)]\n",
    "        rid_list = init_health.RID.tolist()\n",
    "        count = len(rid_list)\n",
    "        print(disease_name, count)\n",
    "        disease_dict[disease_name] = count\n",
    "\n",
    "    return disease_dict\n",
    "    \n",
    "disease_dict = get_disease_dict(init_health, disease_list)\n",
    "print(disease_dict)\n",
    "\n",
    "\n",
    "\n",
    "\n",
    "\n",
    "\n"
   ]
  }
 ],
 "metadata": {
  "kernelspec": {
   "display_name": "Python 3 (ipykernel)",
   "language": "python",
   "name": "python3"
  },
  "language_info": {
   "codemirror_mode": {
    "name": "ipython",
    "version": 3
   },
   "file_extension": ".py",
   "mimetype": "text/x-python",
   "name": "python",
   "nbconvert_exporter": "python",
   "pygments_lexer": "ipython3",
   "version": "3.7.13"
  }
 },
 "nbformat": 4,
 "nbformat_minor": 5
}
